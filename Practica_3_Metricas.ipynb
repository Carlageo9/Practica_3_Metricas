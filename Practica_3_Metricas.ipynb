{
  "nbformat": 4,
  "nbformat_minor": 0,
  "metadata": {
    "colab": {
      "provenance": [],
      "authorship_tag": "ABX9TyO9rbc5JvYKPgRLsnmuyFIA",
      "include_colab_link": true
    },
    "kernelspec": {
      "name": "python3",
      "display_name": "Python 3"
    },
    "language_info": {
      "name": "python"
    }
  },
  "cells": [
    {
      "cell_type": "markdown",
      "metadata": {
        "id": "view-in-github",
        "colab_type": "text"
      },
      "source": [
        "<a href=\"https://colab.research.google.com/github/Carlageo9/Practica_3_Metricas/blob/main/Practica_3_Metricas.ipynb\" target=\"_parent\"><img src=\"https://colab.research.google.com/assets/colab-badge.svg\" alt=\"Open In Colab\"/></a>"
      ]
    },
    {
      "cell_type": "markdown",
      "source": [
        "# Tópicos de Indistria I - Práctica 3 Métricas\n",
        "\n",
        "**Nombre:** Carla Georgina Sánchez Arreguín\n",
        "\n",
        "**e-mail:** carla.sanchez2472@alumnos.udg.mx\n",
        "\n",
        "\n",
        "*   Actividad 1: Path-length - (BM1 vs BM2 vs CRW)\n",
        "*   Actividad 2: Mean Squared Displacement - (BM vs CRW)\n",
        "*   Actividad 3: Turning-angle Distribution - (Dist. origen vs Dist. observada)\n",
        "*   Actividad 4: Step-length Distribution - (Dist. origen vs Dist. observada)\n",
        "\n",
        "\n"
      ],
      "metadata": {
        "id": "Uyw0S3GwhZAg"
      }
    },
    {
      "cell_type": "markdown",
      "source": [
        "MODULES"
      ],
      "metadata": {
        "id": "qMirm5QKipYw"
      }
    },
    {
      "cell_type": "code",
      "execution_count": 1,
      "metadata": {
        "id": "q5rK-lkuhPWZ"
      },
      "outputs": [],
      "source": [
        "import math\n",
        "import numpy as np\n",
        "import pandas as pd\n",
        "\n",
        "import plotly.graph_objects as go\n",
        "\n",
        "from scipy.stats import wrapcauchy\n",
        "from scipy.stats import levy_stable\n",
        "\n",
        "from scipy.spatial import distance"
      ]
    },
    {
      "cell_type": "markdown",
      "source": [
        "CLASSES"
      ],
      "metadata": {
        "id": "sE1EQHv_iyhA"
      }
    },
    {
      "cell_type": "code",
      "source": [
        "################# http://www.pygame.org/wiki/2DVectorClass ##################\n",
        "class Vec2d(object):\n",
        "    \"\"\"2d vector class, supports vector and scalar operators,\n",
        "       and also provides a bunch of high level functions\n",
        "       \"\"\"\n",
        "    __slots__ = ['x', 'y']\n",
        "\n",
        "    def __init__(self, x_or_pair, y = None):\n",
        "        if y == None:\n",
        "            self.x = x_or_pair[0]\n",
        "            self.y = x_or_pair[1]\n",
        "        else:\n",
        "            self.x = x_or_pair\n",
        "            self.y = y\n",
        "\n",
        "    # Addition\n",
        "    def __add__(self, other):\n",
        "        if isinstance(other, Vec2d):\n",
        "            return Vec2d(self.x + other.x, self.y + other.y)\n",
        "        elif hasattr(other, \"__getitem__\"):\n",
        "            return Vec2d(self.x + other[0], self.y + other[1])\n",
        "        else:\n",
        "            return Vec2d(self.x + other, self.y + other)\n",
        "\n",
        "    # Subtraction\n",
        "    def __sub__(self, other):\n",
        "        if isinstance(other, Vec2d):\n",
        "            return Vec2d(self.x - other.x, self.y - other.y)\n",
        "        elif (hasattr(other, \"__getitem__\")):\n",
        "            return Vec2d(self.x - other[0], self.y - other[1])\n",
        "        else:\n",
        "            return Vec2d(self.x - other, self.y - other)\n",
        "\n",
        "    # Vector length\n",
        "    def get_length(self):\n",
        "        return math.sqrt(self.x**2 + self.y**2)\n",
        "\n",
        "    # rotate vector\n",
        "    def rotated(self, angle):\n",
        "        cos = math.cos(angle)\n",
        "        sin = math.sin(angle)\n",
        "        x = self.x*cos - self.y*sin\n",
        "        y = self.x*sin + self.y*cos\n",
        "        return Vec2d(x, y)"
      ],
      "metadata": {
        "id": "Kd5IsVweizpe"
      },
      "execution_count": 2,
      "outputs": []
    },
    {
      "cell_type": "markdown",
      "source": [
        "FUNCTIONS"
      ],
      "metadata": {
        "id": "8XoOIkZ0jeOk"
      }
    },
    {
      "cell_type": "code",
      "source": [
        "###############################################################################################\n",
        "# Turning angle\n",
        "# This function calculates the turning angle between three consecutive positions\n",
        "###############################################################################################\n",
        "def turning_angle(pos_a, pos_b, pos_c):\n",
        "    \"\"\"\n",
        "    Arguments:\n",
        "        pos_a: First position coordinates\n",
        "        pos_b: Second position coordinates\n",
        "        pos_c: Third position coordinates\n",
        "    Returns:\n",
        "        theta: Turning angle\n",
        "    \"\"\"\n",
        "    vec_ab = #code here\n",
        "    norm_ab = #code here\n",
        "\n",
        "    vec_bc = #code here\n",
        "    norm_bc = #code here\n",
        "\n",
        "    dot_p = #code here\n",
        "\n",
        "    # Nota: Evitar division por cero con np.finfo(float).eps\n",
        "    cos_theta = #code here\n",
        "\n",
        "    # Angle orientation\n",
        "    cross_p = #code here\n",
        "    orient = np.sign(cross_p)\n",
        "    if orient == 0:\n",
        "        orient = 1\n",
        "\n",
        "    theta = np.arccos(np.around(cos_theta,4)) * orient\n",
        "    return theta"
      ],
      "metadata": {
        "colab": {
          "base_uri": "https://localhost:8080/",
          "height": 106
        },
        "id": "GwJBUT0IjfmN",
        "outputId": "08c45ec3-7752-40d5-d2a8-4f5cea3a4692"
      },
      "execution_count": 3,
      "outputs": [
        {
          "output_type": "error",
          "ename": "SyntaxError",
          "evalue": "invalid syntax (<ipython-input-3-5560118243a9>, line 14)",
          "traceback": [
            "\u001b[0;36m  File \u001b[0;32m\"<ipython-input-3-5560118243a9>\"\u001b[0;36m, line \u001b[0;32m14\u001b[0m\n\u001b[0;31m    vec_ab = #code here\u001b[0m\n\u001b[0m             ^\u001b[0m\n\u001b[0;31mSyntaxError\u001b[0m\u001b[0;31m:\u001b[0m invalid syntax\n"
          ]
        }
      ]
    },
    {
      "cell_type": "markdown",
      "source": [
        "# Actividad 1: Path Length - (BM1 vs BM2 vs CRW) (4 pts)\n",
        "- Implementar función que genere Brownian Motions (BM) utilizando pandas.\n",
        "\n",
        "- Implementar función que genere Correlated Random Walks (CRW) utilizando pandas.\n",
        "\n",
        "- Implementar una función alternativa a las ya disponibles en los distintos modulos de python que calcule los valores de la curva de path length de una trayectoria.\n",
        "\n",
        "- Guardar los valores de la métrica en un Data Frame de pandas.\n",
        "Visualizar con plotly."
      ],
      "metadata": {
        "id": "wOs3atCqj00I"
      }
    },
    {
      "cell_type": "code",
      "source": [
        "# Load existing trajectories to test your implementation\n",
        "# BM speed = 3\n",
        "BM_2d_df_3 = pd.read_csv('trajectories/brownian_3.csv')\n",
        "\n",
        "# Load existing trajectories to test your implementation\n",
        "# BM speed = 6\n",
        "BM_2d_df_6 = pd.read_csv('trajectories/brownian_6.csv')\n",
        "\n",
        "# Load existing trajectories to test your implementation\n",
        "CRW_2d_df_9 = pd.read_csv('trajectories/crw_6_9.csv')"
      ],
      "metadata": {
        "id": "rnONCuQHkHHp"
      },
      "execution_count": null,
      "outputs": []
    },
    {
      "cell_type": "code",
      "source": [
        "# Define your function to compute path length for given trajectory\n",
        "\n",
        "## start - Add your code here\n",
        "# def function (trajectory):\n",
        "\n",
        "\n",
        "    #return path_length_df\n",
        "\n",
        "## end - Add your code here"
      ],
      "metadata": {
        "id": "YyhmtppEkH2u"
      },
      "execution_count": null,
      "outputs": []
    },
    {
      "cell_type": "code",
      "source": [
        "# Get Path length calling the function\n",
        "PL_BM_3 = # Add your code here function(BM_2d_df_3)\n",
        "\n",
        "# Get Path length calling the function\n",
        "PL_BM_6 = # Add your code here function(BM_2d_df_6)\n",
        "\n",
        "# Get Path length calling the function\n",
        "PL_CRW_6 = # Add your code here function(CRW_2d_df_9)"
      ],
      "metadata": {
        "id": "mLVVRssjkJ1B"
      },
      "execution_count": null,
      "outputs": []
    },
    {
      "cell_type": "code",
      "source": [
        "# Plotting\n",
        "# Init figure\n",
        "fig_path_length = go.Figure()\n",
        "\n",
        "# First trace BM1\n",
        "## start - Add your code here\n",
        "\n",
        "## end - Add your code here\n",
        "\n",
        "\n",
        "# Second trace BM2\n",
        "## start - Add your code here\n",
        "\n",
        "## end - Add your code here\n",
        "\n",
        "\n",
        "# Third trace CRW\n",
        "## start - Add your code here\n",
        "\n",
        "## end - Add your code here\n",
        "\n",
        "\n",
        "fig_path_length.show()"
      ],
      "metadata": {
        "id": "FLO1XHcVkNep"
      },
      "execution_count": null,
      "outputs": []
    }
  ]
}